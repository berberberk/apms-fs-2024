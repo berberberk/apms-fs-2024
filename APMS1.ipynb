{
  "nbformat": 4,
  "nbformat_minor": 0,
  "metadata": {
    "colab": {
      "provenance": [],
      "authorship_tag": "ABX9TyPALJJwFzw/K5ACis5uLza2"
    },
    "kernelspec": {
      "name": "python3",
      "display_name": "Python 3"
    },
    "language_info": {
      "name": "python"
    }
  },
  "cells": [
    {
      "cell_type": "code",
      "source": [
        "import numpy as np\n",
        "import pandas as pd\n",
        "import numpy as np\n",
        "import math\n",
        "from matplotlib import pyplot as plt"
      ],
      "metadata": {
        "id": "DXApN_nTpaKk"
      },
      "execution_count": 68,
      "outputs": []
    },
    {
      "cell_type": "markdown",
      "source": [
        "# 1. Сбор данных"
      ],
      "metadata": {
        "id": "KcPpobiCkR8X"
      }
    },
    {
      "cell_type": "code",
      "execution_count": 69,
      "metadata": {
        "id": "csGPe7kFhv7A"
      },
      "outputs": [],
      "source": [
        "height = [1.73, 1.76, 1.83, 1.66, 1.72, 1.77, 1.85, 1.87, 1.59, 1.79, 2.03]\n",
        "month = [5, 11, 2, 2, 12, 9, 8, 7, 9, 10, 10]\n",
        "number = [8, 1, 6, 0, 7, 8, 1, 6, 4, 2, 1]"
      ]
    },
    {
      "cell_type": "markdown",
      "source": [
        "# 2. Обработка данных"
      ],
      "metadata": {
        "id": "DtkqH2pIkY_p"
      }
    },
    {
      "cell_type": "markdown",
      "source": [
        "## 2.1 Обработка целочисленных данных"
      ],
      "metadata": {
        "id": "1lIbJJHfkdZK"
      }
    },
    {
      "cell_type": "markdown",
      "source": [
        "Построим вариационный ряд с абсолютными и относительными\n",
        "частотами по выборке дискретных данных"
      ],
      "metadata": {
        "id": "3zMvzTBNkzxk"
      }
    },
    {
      "cell_type": "code",
      "source": [
        "# Построение таблицы частот\n",
        "data = pd.DataFrame({'month': month, 'number': number})\n",
        "\n",
        "# Вариационный ряд и абсолютные частоты\n",
        "frequency_table = data['number'].value_counts().sort_index()\n",
        "frequency_table_for_month = data['month'].value_counts().sort_index()\n",
        "print(frequency_table)\n",
        "print(frequency_table_for_month)\n",
        "\n",
        "# Частости\n",
        "relative_frequencies = frequency_table / len(data)\n",
        "relative_frequencies_for_month = frequency_table_for_month / len(data)\n",
        "print(relative_frequencies)\n",
        "print(relative_frequencies_for_month)\n"
      ],
      "metadata": {
        "colab": {
          "base_uri": "https://localhost:8080/"
        },
        "id": "n6RuWSa_isBn",
        "outputId": "0824f445-4a6c-49ef-d3e5-9242986cd564"
      },
      "execution_count": 70,
      "outputs": [
        {
          "output_type": "stream",
          "name": "stdout",
          "text": [
            "number\n",
            "0    1\n",
            "1    3\n",
            "2    1\n",
            "4    1\n",
            "6    2\n",
            "7    1\n",
            "8    2\n",
            "Name: count, dtype: int64\n",
            "month\n",
            "2     2\n",
            "5     1\n",
            "7     1\n",
            "8     1\n",
            "9     2\n",
            "10    2\n",
            "11    1\n",
            "12    1\n",
            "Name: count, dtype: int64\n",
            "number\n",
            "0    0.090909\n",
            "1    0.272727\n",
            "2    0.090909\n",
            "4    0.090909\n",
            "6    0.181818\n",
            "7    0.090909\n",
            "8    0.181818\n",
            "Name: count, dtype: float64\n",
            "month\n",
            "2     0.181818\n",
            "5     0.090909\n",
            "7     0.090909\n",
            "8     0.090909\n",
            "9     0.181818\n",
            "10    0.181818\n",
            "11    0.090909\n",
            "12    0.090909\n",
            "Name: count, dtype: float64\n"
          ]
        }
      ]
    },
    {
      "cell_type": "code",
      "source": [
        "\n",
        "# Таблица частот\n",
        "frequency_distribution = pd.DataFrame({\n",
        "    'Absolute Frequency': frequency_table,\n",
        "    'Relative Frequency': relative_frequencies\n",
        "})\n",
        "\n",
        "frequency_distribution_for_month = pd.DataFrame({\n",
        "    'Absolute Frequency': frequency_table_for_month,\n",
        "    'Relative Frequency': relative_frequencies_for_month\n",
        "})\n",
        "frequency_distribution"
      ],
      "metadata": {
        "colab": {
          "base_uri": "https://localhost:8080/",
          "height": 300
        },
        "id": "am7fLAn3jodc",
        "outputId": "509bc2ab-e637-4d5f-c927-ccecfcd997b7"
      },
      "execution_count": 71,
      "outputs": [
        {
          "output_type": "execute_result",
          "data": {
            "text/plain": [
              "        Absolute Frequency  Relative Frequency\n",
              "number                                        \n",
              "0                        1            0.090909\n",
              "1                        3            0.272727\n",
              "2                        1            0.090909\n",
              "4                        1            0.090909\n",
              "6                        2            0.181818\n",
              "7                        1            0.090909\n",
              "8                        2            0.181818"
            ],
            "text/html": [
              "\n",
              "  <div id=\"df-d555338f-c40e-4ad2-a0cc-84f9325b98f3\" class=\"colab-df-container\">\n",
              "    <div>\n",
              "<style scoped>\n",
              "    .dataframe tbody tr th:only-of-type {\n",
              "        vertical-align: middle;\n",
              "    }\n",
              "\n",
              "    .dataframe tbody tr th {\n",
              "        vertical-align: top;\n",
              "    }\n",
              "\n",
              "    .dataframe thead th {\n",
              "        text-align: right;\n",
              "    }\n",
              "</style>\n",
              "<table border=\"1\" class=\"dataframe\">\n",
              "  <thead>\n",
              "    <tr style=\"text-align: right;\">\n",
              "      <th></th>\n",
              "      <th>Absolute Frequency</th>\n",
              "      <th>Relative Frequency</th>\n",
              "    </tr>\n",
              "    <tr>\n",
              "      <th>number</th>\n",
              "      <th></th>\n",
              "      <th></th>\n",
              "    </tr>\n",
              "  </thead>\n",
              "  <tbody>\n",
              "    <tr>\n",
              "      <th>0</th>\n",
              "      <td>1</td>\n",
              "      <td>0.090909</td>\n",
              "    </tr>\n",
              "    <tr>\n",
              "      <th>1</th>\n",
              "      <td>3</td>\n",
              "      <td>0.272727</td>\n",
              "    </tr>\n",
              "    <tr>\n",
              "      <th>2</th>\n",
              "      <td>1</td>\n",
              "      <td>0.090909</td>\n",
              "    </tr>\n",
              "    <tr>\n",
              "      <th>4</th>\n",
              "      <td>1</td>\n",
              "      <td>0.090909</td>\n",
              "    </tr>\n",
              "    <tr>\n",
              "      <th>6</th>\n",
              "      <td>2</td>\n",
              "      <td>0.181818</td>\n",
              "    </tr>\n",
              "    <tr>\n",
              "      <th>7</th>\n",
              "      <td>1</td>\n",
              "      <td>0.090909</td>\n",
              "    </tr>\n",
              "    <tr>\n",
              "      <th>8</th>\n",
              "      <td>2</td>\n",
              "      <td>0.181818</td>\n",
              "    </tr>\n",
              "  </tbody>\n",
              "</table>\n",
              "</div>\n",
              "    <div class=\"colab-df-buttons\">\n",
              "\n",
              "  <div class=\"colab-df-container\">\n",
              "    <button class=\"colab-df-convert\" onclick=\"convertToInteractive('df-d555338f-c40e-4ad2-a0cc-84f9325b98f3')\"\n",
              "            title=\"Convert this dataframe to an interactive table.\"\n",
              "            style=\"display:none;\">\n",
              "\n",
              "  <svg xmlns=\"http://www.w3.org/2000/svg\" height=\"24px\" viewBox=\"0 -960 960 960\">\n",
              "    <path d=\"M120-120v-720h720v720H120Zm60-500h600v-160H180v160Zm220 220h160v-160H400v160Zm0 220h160v-160H400v160ZM180-400h160v-160H180v160Zm440 0h160v-160H620v160ZM180-180h160v-160H180v160Zm440 0h160v-160H620v160Z\"/>\n",
              "  </svg>\n",
              "    </button>\n",
              "\n",
              "  <style>\n",
              "    .colab-df-container {\n",
              "      display:flex;\n",
              "      gap: 12px;\n",
              "    }\n",
              "\n",
              "    .colab-df-convert {\n",
              "      background-color: #E8F0FE;\n",
              "      border: none;\n",
              "      border-radius: 50%;\n",
              "      cursor: pointer;\n",
              "      display: none;\n",
              "      fill: #1967D2;\n",
              "      height: 32px;\n",
              "      padding: 0 0 0 0;\n",
              "      width: 32px;\n",
              "    }\n",
              "\n",
              "    .colab-df-convert:hover {\n",
              "      background-color: #E2EBFA;\n",
              "      box-shadow: 0px 1px 2px rgba(60, 64, 67, 0.3), 0px 1px 3px 1px rgba(60, 64, 67, 0.15);\n",
              "      fill: #174EA6;\n",
              "    }\n",
              "\n",
              "    .colab-df-buttons div {\n",
              "      margin-bottom: 4px;\n",
              "    }\n",
              "\n",
              "    [theme=dark] .colab-df-convert {\n",
              "      background-color: #3B4455;\n",
              "      fill: #D2E3FC;\n",
              "    }\n",
              "\n",
              "    [theme=dark] .colab-df-convert:hover {\n",
              "      background-color: #434B5C;\n",
              "      box-shadow: 0px 1px 3px 1px rgba(0, 0, 0, 0.15);\n",
              "      filter: drop-shadow(0px 1px 2px rgba(0, 0, 0, 0.3));\n",
              "      fill: #FFFFFF;\n",
              "    }\n",
              "  </style>\n",
              "\n",
              "    <script>\n",
              "      const buttonEl =\n",
              "        document.querySelector('#df-d555338f-c40e-4ad2-a0cc-84f9325b98f3 button.colab-df-convert');\n",
              "      buttonEl.style.display =\n",
              "        google.colab.kernel.accessAllowed ? 'block' : 'none';\n",
              "\n",
              "      async function convertToInteractive(key) {\n",
              "        const element = document.querySelector('#df-d555338f-c40e-4ad2-a0cc-84f9325b98f3');\n",
              "        const dataTable =\n",
              "          await google.colab.kernel.invokeFunction('convertToInteractive',\n",
              "                                                    [key], {});\n",
              "        if (!dataTable) return;\n",
              "\n",
              "        const docLinkHtml = 'Like what you see? Visit the ' +\n",
              "          '<a target=\"_blank\" href=https://colab.research.google.com/notebooks/data_table.ipynb>data table notebook</a>'\n",
              "          + ' to learn more about interactive tables.';\n",
              "        element.innerHTML = '';\n",
              "        dataTable['output_type'] = 'display_data';\n",
              "        await google.colab.output.renderOutput(dataTable, element);\n",
              "        const docLink = document.createElement('div');\n",
              "        docLink.innerHTML = docLinkHtml;\n",
              "        element.appendChild(docLink);\n",
              "      }\n",
              "    </script>\n",
              "  </div>\n",
              "\n",
              "\n",
              "<div id=\"df-7c21a49b-9749-4a37-a263-07a9094bad38\">\n",
              "  <button class=\"colab-df-quickchart\" onclick=\"quickchart('df-7c21a49b-9749-4a37-a263-07a9094bad38')\"\n",
              "            title=\"Suggest charts\"\n",
              "            style=\"display:none;\">\n",
              "\n",
              "<svg xmlns=\"http://www.w3.org/2000/svg\" height=\"24px\"viewBox=\"0 0 24 24\"\n",
              "     width=\"24px\">\n",
              "    <g>\n",
              "        <path d=\"M19 3H5c-1.1 0-2 .9-2 2v14c0 1.1.9 2 2 2h14c1.1 0 2-.9 2-2V5c0-1.1-.9-2-2-2zM9 17H7v-7h2v7zm4 0h-2V7h2v10zm4 0h-2v-4h2v4z\"/>\n",
              "    </g>\n",
              "</svg>\n",
              "  </button>\n",
              "\n",
              "<style>\n",
              "  .colab-df-quickchart {\n",
              "      --bg-color: #E8F0FE;\n",
              "      --fill-color: #1967D2;\n",
              "      --hover-bg-color: #E2EBFA;\n",
              "      --hover-fill-color: #174EA6;\n",
              "      --disabled-fill-color: #AAA;\n",
              "      --disabled-bg-color: #DDD;\n",
              "  }\n",
              "\n",
              "  [theme=dark] .colab-df-quickchart {\n",
              "      --bg-color: #3B4455;\n",
              "      --fill-color: #D2E3FC;\n",
              "      --hover-bg-color: #434B5C;\n",
              "      --hover-fill-color: #FFFFFF;\n",
              "      --disabled-bg-color: #3B4455;\n",
              "      --disabled-fill-color: #666;\n",
              "  }\n",
              "\n",
              "  .colab-df-quickchart {\n",
              "    background-color: var(--bg-color);\n",
              "    border: none;\n",
              "    border-radius: 50%;\n",
              "    cursor: pointer;\n",
              "    display: none;\n",
              "    fill: var(--fill-color);\n",
              "    height: 32px;\n",
              "    padding: 0;\n",
              "    width: 32px;\n",
              "  }\n",
              "\n",
              "  .colab-df-quickchart:hover {\n",
              "    background-color: var(--hover-bg-color);\n",
              "    box-shadow: 0 1px 2px rgba(60, 64, 67, 0.3), 0 1px 3px 1px rgba(60, 64, 67, 0.15);\n",
              "    fill: var(--button-hover-fill-color);\n",
              "  }\n",
              "\n",
              "  .colab-df-quickchart-complete:disabled,\n",
              "  .colab-df-quickchart-complete:disabled:hover {\n",
              "    background-color: var(--disabled-bg-color);\n",
              "    fill: var(--disabled-fill-color);\n",
              "    box-shadow: none;\n",
              "  }\n",
              "\n",
              "  .colab-df-spinner {\n",
              "    border: 2px solid var(--fill-color);\n",
              "    border-color: transparent;\n",
              "    border-bottom-color: var(--fill-color);\n",
              "    animation:\n",
              "      spin 1s steps(1) infinite;\n",
              "  }\n",
              "\n",
              "  @keyframes spin {\n",
              "    0% {\n",
              "      border-color: transparent;\n",
              "      border-bottom-color: var(--fill-color);\n",
              "      border-left-color: var(--fill-color);\n",
              "    }\n",
              "    20% {\n",
              "      border-color: transparent;\n",
              "      border-left-color: var(--fill-color);\n",
              "      border-top-color: var(--fill-color);\n",
              "    }\n",
              "    30% {\n",
              "      border-color: transparent;\n",
              "      border-left-color: var(--fill-color);\n",
              "      border-top-color: var(--fill-color);\n",
              "      border-right-color: var(--fill-color);\n",
              "    }\n",
              "    40% {\n",
              "      border-color: transparent;\n",
              "      border-right-color: var(--fill-color);\n",
              "      border-top-color: var(--fill-color);\n",
              "    }\n",
              "    60% {\n",
              "      border-color: transparent;\n",
              "      border-right-color: var(--fill-color);\n",
              "    }\n",
              "    80% {\n",
              "      border-color: transparent;\n",
              "      border-right-color: var(--fill-color);\n",
              "      border-bottom-color: var(--fill-color);\n",
              "    }\n",
              "    90% {\n",
              "      border-color: transparent;\n",
              "      border-bottom-color: var(--fill-color);\n",
              "    }\n",
              "  }\n",
              "</style>\n",
              "\n",
              "  <script>\n",
              "    async function quickchart(key) {\n",
              "      const quickchartButtonEl =\n",
              "        document.querySelector('#' + key + ' button');\n",
              "      quickchartButtonEl.disabled = true;  // To prevent multiple clicks.\n",
              "      quickchartButtonEl.classList.add('colab-df-spinner');\n",
              "      try {\n",
              "        const charts = await google.colab.kernel.invokeFunction(\n",
              "            'suggestCharts', [key], {});\n",
              "      } catch (error) {\n",
              "        console.error('Error during call to suggestCharts:', error);\n",
              "      }\n",
              "      quickchartButtonEl.classList.remove('colab-df-spinner');\n",
              "      quickchartButtonEl.classList.add('colab-df-quickchart-complete');\n",
              "    }\n",
              "    (() => {\n",
              "      let quickchartButtonEl =\n",
              "        document.querySelector('#df-7c21a49b-9749-4a37-a263-07a9094bad38 button');\n",
              "      quickchartButtonEl.style.display =\n",
              "        google.colab.kernel.accessAllowed ? 'block' : 'none';\n",
              "    })();\n",
              "  </script>\n",
              "</div>\n",
              "    </div>\n",
              "  </div>\n"
            ],
            "application/vnd.google.colaboratory.intrinsic+json": {
              "type": "dataframe",
              "variable_name": "frequency_distribution",
              "summary": "{\n  \"name\": \"frequency_distribution\",\n  \"rows\": 7,\n  \"fields\": [\n    {\n      \"column\": \"number\",\n      \"properties\": {\n        \"dtype\": \"number\",\n        \"std\": 3,\n        \"min\": 0,\n        \"max\": 8,\n        \"num_unique_values\": 7,\n        \"samples\": [\n          0,\n          1,\n          7\n        ],\n        \"semantic_type\": \"\",\n        \"description\": \"\"\n      }\n    },\n    {\n      \"column\": \"Absolute Frequency\",\n      \"properties\": {\n        \"dtype\": \"number\",\n        \"std\": 0,\n        \"min\": 1,\n        \"max\": 3,\n        \"num_unique_values\": 3,\n        \"samples\": [\n          1,\n          3,\n          2\n        ],\n        \"semantic_type\": \"\",\n        \"description\": \"\"\n      }\n    },\n    {\n      \"column\": \"Relative Frequency\",\n      \"properties\": {\n        \"dtype\": \"number\",\n        \"std\": 0.07152689022449482,\n        \"min\": 0.09090909090909091,\n        \"max\": 0.2727272727272727,\n        \"num_unique_values\": 3,\n        \"samples\": [\n          0.09090909090909091,\n          0.2727272727272727,\n          0.18181818181818182\n        ],\n        \"semantic_type\": \"\",\n        \"description\": \"\"\n      }\n    }\n  ]\n}"
            }
          },
          "metadata": {},
          "execution_count": 71
        }
      ]
    },
    {
      "cell_type": "code",
      "source": [
        "frequency_distribution['Relative Frequency'].plot(kind='line', color='blue', figsize=(8, 4), title='Полигон относительных частот загаданных чисел')\n",
        "plt.gca().spines[['top', 'right']].set_visible(False)\n",
        "plt.show()\n",
        "\n",
        "frequency_distribution_for_month['Relative Frequency'].plot(kind='line', color='purple', figsize=(8, 4), title='Полигон относительных частот месяцев рождения')\n",
        "plt.gca().spines[['top', 'right']].set_visible(False)\n",
        "plt.show()"
      ],
      "metadata": {
        "colab": {
          "base_uri": "https://localhost:8080/",
          "height": 803
        },
        "id": "PhCGGcNSit3x",
        "outputId": "56408922-a7af-4ab5-c64e-93d018f36b0c"
      },
      "execution_count": 72,
      "outputs": [
        {
          "output_type": "display_data",
          "data": {
            "text/plain": [
              "<Figure size 800x400 with 1 Axes>"
            ],
            "image/png": "[encoded data removed]"
          },
          "metadata": {}
        },
        {
          "output_type": "display_data",
          "data": {
            "text/plain": [
              "<Figure size 800x400 with 1 Axes>"
            ],
            "image/png": "[encoded data removed]"
          },
          "metadata": {}
        }
      ]
    },
    {
      "cell_type": "markdown",
      "source": [
        "Построим график эмпирической функции распределения"
      ],
      "metadata": {
        "id": "U8Is9PbRlcBL"
      }
    },
    {
      "cell_type": "code",
      "source": [
        "# Вычисление эмпирической функции распределения\n",
        "empirical_distribution = relative_frequencies.cumsum()\n",
        "print(empirical_distribution)\n",
        "empirical_distribution_for_month = relative_frequencies_for_month.cumsum()\n",
        "\n",
        "# График эмпирической функции распределения\n",
        "plt.step(empirical_distribution.index, empirical_distribution, color='blue', where='post')\n",
        "plt.title('Эмпирическая функция распределения')\n",
        "plt.xlabel('Значения')\n",
        "plt.ylabel('Накопленная относительная частота')\n",
        "plt.grid(True)\n",
        "plt.show()\n",
        "\n",
        "#График эмпирической функции распределения для месяца\n",
        "plt.step(empirical_distribution_for_month.index, empirical_distribution_for_month, where='post', color='purple')\n",
        "plt.title('Эмпирическая функция распределения для месяцев')\n",
        "plt.xlabel('Значения')\n",
        "plt.ylabel('Накопленная относительная частота')\n",
        "plt.grid(True)\n",
        "plt.show()"
      ],
      "metadata": {
        "colab": {
          "base_uri": "https://localhost:8080/",
          "height": 1000
        },
        "id": "C-vXzf4biwYh",
        "outputId": "c4ebe61a-2ca3-466b-aad1-f959b83bf543"
      },
      "execution_count": 73,
      "outputs": [
        {
          "output_type": "stream",
          "name": "stdout",
          "text": [
            "number\n",
            "0    0.090909\n",
            "1    0.363636\n",
            "2    0.454545\n",
            "4    0.545455\n",
            "6    0.727273\n",
            "7    0.818182\n",
            "8    1.000000\n",
            "Name: count, dtype: float64\n"
          ]
        },
        {
          "output_type": "display_data",
          "data": {
            "text/plain": [
              "<Figure size 640x480 with 1 Axes>"
            ],
            "image/png": "[encoded data removed]"
          },
          "metadata": {}
        },
        {
          "output_type": "display_data",
          "data": {
            "text/plain": [
              "<Figure size 640x480 with 1 Axes>"
            ],
            "image/png": "[encoded data removed]"
          },
          "metadata": {}
        }
      ]
    },
    {
      "cell_type": "markdown",
      "source": [
        "Рассчитать выборочные описательные статистики"
      ],
      "metadata": {
        "id": "CtfiXm-TllKV"
      }
    },
    {
      "cell_type": "code",
      "source": [
        "# Выборочное среднее\n",
        "mean_value = round(data['number'].mean(), 2)\n",
        "\n",
        "# Выборочная дисперсия\n",
        "variance = round(data['number'].var(ddof=1), 2)\n",
        "\n",
        "# Выборочное стандартное отклонение\n",
        "std_deviation = round(data['number'].std(ddof=1), 2)\n",
        "\n",
        "# Выборочная медиана\n",
        "median_value = round(data['number'].median(), 2)\n",
        "\n",
        "# Коэффициент вариации\n",
        "coefficient_of_variation = round((std_deviation / mean_value) * 100, 2)\n",
        "\n",
        "print(f'Выборочное среднее: {mean_value}, \\\n",
        "        \\nВыборочная дисперсия: {variance}, \\\n",
        "        \\nВыборочное стандартное отклонение: {std_deviation}, \\\n",
        "        \\nВыборочная медиана: {median_value}, \\\n",
        "        \\nКоэффициент вариации: {coefficient_of_variation}%')"
      ],
      "metadata": {
        "colab": {
          "base_uri": "https://localhost:8080/"
        },
        "id": "5aSX-pWXiy4F",
        "outputId": "4d93b000-1b67-4792-ae76-7b33e65c4e29"
      },
      "execution_count": 74,
      "outputs": [
        {
          "output_type": "stream",
          "name": "stdout",
          "text": [
            "Выборочное среднее: 4.0,         \n",
            "Выборочная дисперсия: 9.6,         \n",
            "Выборочное стандартное отклонение: 3.1,         \n",
            "Выборочная медиана: 4.0,         \n",
            "Коэффициент вариации: 77.5%\n"
          ]
        }
      ]
    },
    {
      "cell_type": "markdown",
      "source": [
        "## 2.2 Обработка вещественных данных"
      ],
      "metadata": {
        "id": "Sc0Un4ukkqgL"
      }
    },
    {
      "cell_type": "markdown",
      "source": [
        "Рассчитаем число групп (интервалов) m для квантования исходных\n",
        "данных по правилу Стёрджесс"
      ],
      "metadata": {
        "id": "IZ36fQRclqBf"
      }
    },
    {
      "cell_type": "code",
      "source": [
        "# Данные\n",
        "height = [1.73, 1.76, 1.83, 1.66, 1.72, 1.77, 1.85, 1.87, 1.59, 1.79, 2.03]\n",
        "\n",
        "# Число наблюдений\n",
        "n = len(height)\n",
        "\n",
        "# Число интервалов по правилу Стёрджесса\n",
        "m = math.ceil(1 + 3.322 * math.log10(n))\n",
        "m"
      ],
      "metadata": {
        "colab": {
          "base_uri": "https://localhost:8080/"
        },
        "id": "L1LYiqYGi2Dy",
        "outputId": "36eb9506-50c1-4c74-a4e1-d2730a8e4048"
      },
      "execution_count": 75,
      "outputs": [
        {
          "output_type": "execute_result",
          "data": {
            "text/plain": [
              "5"
            ]
          },
          "metadata": {},
          "execution_count": 75
        }
      ]
    },
    {
      "cell_type": "markdown",
      "source": [
        "Вычислим значения границ групп для значений выборки по\n",
        "правилу фиксированной величины интервала"
      ],
      "metadata": {
        "id": "0-bi5Txelww_"
      }
    },
    {
      "cell_type": "code",
      "source": [
        "# Минимальное и максимальное значения\n",
        "min_value = min(height)\n",
        "max_value = max(height)\n",
        "\n",
        "# Ширина интервала\n",
        "interval_width = (max_value - min_value) / m\n",
        "\n",
        "# Границы интервалов\n",
        "intervals = [round(min_value + i * interval_width, 2) for i in range(m + 1)]\n",
        "intervals"
      ],
      "metadata": {
        "colab": {
          "base_uri": "https://localhost:8080/"
        },
        "id": "QsCOsuLnoO85",
        "outputId": "c2390050-f295-4708-f785-420d243cebd9"
      },
      "execution_count": 76,
      "outputs": [
        {
          "output_type": "execute_result",
          "data": {
            "text/plain": [
              "[1.59, 1.68, 1.77, 1.85, 1.94, 2.03]"
            ]
          },
          "metadata": {},
          "execution_count": 76
        }
      ]
    },
    {
      "cell_type": "markdown",
      "source": [
        "Построим вариационный ряд для выборки интервальных данных"
      ],
      "metadata": {
        "id": "culostnbl5nW"
      }
    },
    {
      "cell_type": "code",
      "source": [
        "# Построение вариационного ряда\n",
        "frequency_distribution = np.histogram(height, bins=intervals)\n",
        "absolute_frequencies = frequency_distribution[0]\n",
        "interval_edges = frequency_distribution[1]\n",
        "\n",
        "# Относительные частоты\n",
        "relative_frequencies = absolute_frequencies / n\n",
        "\n",
        "# Вариационный ряд\n",
        "frequency_table = pd.DataFrame({\n",
        "    'Interval': [f\"{interval_edges[i]} - {interval_edges[i+1]}\" for i in range(m)],\n",
        "    'Absolute Frequency': absolute_frequencies,\n",
        "    'Relative Frequency': relative_frequencies\n",
        "})\n",
        "\n",
        "frequency_table"
      ],
      "metadata": {
        "colab": {
          "base_uri": "https://localhost:8080/",
          "height": 206
        },
        "id": "0mWwNvCDoS46",
        "outputId": "943e84fe-9cc8-422e-c8ed-31a7cd92f23a"
      },
      "execution_count": 77,
      "outputs": [
        {
          "output_type": "execute_result",
          "data": {
            "text/plain": [
              "      Interval  Absolute Frequency  Relative Frequency\n",
              "0  1.59 - 1.68                   2            0.181818\n",
              "1  1.68 - 1.77                   3            0.272727\n",
              "2  1.77 - 1.85                   3            0.272727\n",
              "3  1.85 - 1.94                   2            0.181818\n",
              "4  1.94 - 2.03                   1            0.090909"
            ],
            "text/html": [
              "\n",
              "  <div id=\"df-3deb1f4e-ad04-4042-a919-06c349b8d682\" class=\"colab-df-container\">\n",
              "    <div>\n",
              "<style scoped>\n",
              "    .dataframe tbody tr th:only-of-type {\n",
              "        vertical-align: middle;\n",
              "    }\n",
              "\n",
              "    .dataframe tbody tr th {\n",
              "        vertical-align: top;\n",
              "    }\n",
              "\n",
              "    .dataframe thead th {\n",
              "        text-align: right;\n",
              "    }\n",
              "</style>\n",
              "<table border=\"1\" class=\"dataframe\">\n",
              "  <thead>\n",
              "    <tr style=\"text-align: right;\">\n",
              "      <th></th>\n",
              "      <th>Interval</th>\n",
              "      <th>Absolute Frequency</th>\n",
              "      <th>Relative Frequency</th>\n",
              "    </tr>\n",
              "  </thead>\n",
              "  <tbody>\n",
              "    <tr>\n",
              "      <th>0</th>\n",
              "      <td>1.59 - 1.68</td>\n",
              "      <td>2</td>\n",
              "      <td>0.181818</td>\n",
              "    </tr>\n",
              "    <tr>\n",
              "      <th>1</th>\n",
              "      <td>1.68 - 1.77</td>\n",
              "      <td>3</td>\n",
              "      <td>0.272727</td>\n",
              "    </tr>\n",
              "    <tr>\n",
              "      <th>2</th>\n",
              "      <td>1.77 - 1.85</td>\n",
              "      <td>3</td>\n",
              "      <td>0.272727</td>\n",
              "    </tr>\n",
              "    <tr>\n",
              "      <th>3</th>\n",
              "      <td>1.85 - 1.94</td>\n",
              "      <td>2</td>\n",
              "      <td>0.181818</td>\n",
              "    </tr>\n",
              "    <tr>\n",
              "      <th>4</th>\n",
              "      <td>1.94 - 2.03</td>\n",
              "      <td>1</td>\n",
              "      <td>0.090909</td>\n",
              "    </tr>\n",
              "  </tbody>\n",
              "</table>\n",
              "</div>\n",
              "    <div class=\"colab-df-buttons\">\n",
              "\n",
              "  <div class=\"colab-df-container\">\n",
              "    <button class=\"colab-df-convert\" onclick=\"convertToInteractive('df-3deb1f4e-ad04-4042-a919-06c349b8d682')\"\n",
              "            title=\"Convert this dataframe to an interactive table.\"\n",
              "            style=\"display:none;\">\n",
              "\n",
              "  <svg xmlns=\"http://www.w3.org/2000/svg\" height=\"24px\" viewBox=\"0 -960 960 960\">\n",
              "    <path d=\"M120-120v-720h720v720H120Zm60-500h600v-160H180v160Zm220 220h160v-160H400v160Zm0 220h160v-160H400v160ZM180-400h160v-160H180v160Zm440 0h160v-160H620v160ZM180-180h160v-160H180v160Zm440 0h160v-160H620v160Z\"/>\n",
              "  </svg>\n",
              "    </button>\n",
              "\n",
              "  <style>\n",
              "    .colab-df-container {\n",
              "      display:flex;\n",
              "      gap: 12px;\n",
              "    }\n",
              "\n",
              "    .colab-df-convert {\n",
              "      background-color: #E8F0FE;\n",
              "      border: none;\n",
              "      border-radius: 50%;\n",
              "      cursor: pointer;\n",
              "      display: none;\n",
              "      fill: #1967D2;\n",
              "      height: 32px;\n",
              "      padding: 0 0 0 0;\n",
              "      width: 32px;\n",
              "    }\n",
              "\n",
              "    .colab-df-convert:hover {\n",
              "      background-color: #E2EBFA;\n",
              "      box-shadow: 0px 1px 2px rgba(60, 64, 67, 0.3), 0px 1px 3px 1px rgba(60, 64, 67, 0.15);\n",
              "      fill: #174EA6;\n",
              "    }\n",
              "\n",
              "    .colab-df-buttons div {\n",
              "      margin-bottom: 4px;\n",
              "    }\n",
              "\n",
              "    [theme=dark] .colab-df-convert {\n",
              "      background-color: #3B4455;\n",
              "      fill: #D2E3FC;\n",
              "    }\n",
              "\n",
              "    [theme=dark] .colab-df-convert:hover {\n",
              "      background-color: #434B5C;\n",
              "      box-shadow: 0px 1px 3px 1px rgba(0, 0, 0, 0.15);\n",
              "      filter: drop-shadow(0px 1px 2px rgba(0, 0, 0, 0.3));\n",
              "      fill: #FFFFFF;\n",
              "    }\n",
              "  </style>\n",
              "\n",
              "    <script>\n",
              "      const buttonEl =\n",
              "        document.querySelector('#df-3deb1f4e-ad04-4042-a919-06c349b8d682 button.colab-df-convert');\n",
              "      buttonEl.style.display =\n",
              "        google.colab.kernel.accessAllowed ? 'block' : 'none';\n",
              "\n",
              "      async function convertToInteractive(key) {\n",
              "        const element = document.querySelector('#df-3deb1f4e-ad04-4042-a919-06c349b8d682');\n",
              "        const dataTable =\n",
              "          await google.colab.kernel.invokeFunction('convertToInteractive',\n",
              "                                                    [key], {});\n",
              "        if (!dataTable) return;\n",
              "\n",
              "        const docLinkHtml = 'Like what you see? Visit the ' +\n",
              "          '<a target=\"_blank\" href=https://colab.research.google.com/notebooks/data_table.ipynb>data table notebook</a>'\n",
              "          + ' to learn more about interactive tables.';\n",
              "        element.innerHTML = '';\n",
              "        dataTable['output_type'] = 'display_data';\n",
              "        await google.colab.output.renderOutput(dataTable, element);\n",
              "        const docLink = document.createElement('div');\n",
              "        docLink.innerHTML = docLinkHtml;\n",
              "        element.appendChild(docLink);\n",
              "      }\n",
              "    </script>\n",
              "  </div>\n",
              "\n",
              "\n",
              "<div id=\"df-5c6ca15c-f106-4995-a2b5-be21df70ec96\">\n",
              "  <button class=\"colab-df-quickchart\" onclick=\"quickchart('df-5c6ca15c-f106-4995-a2b5-be21df70ec96')\"\n",
              "            title=\"Suggest charts\"\n",
              "            style=\"display:none;\">\n",
              "\n",
              "<svg xmlns=\"http://www.w3.org/2000/svg\" height=\"24px\"viewBox=\"0 0 24 24\"\n",
              "     width=\"24px\">\n",
              "    <g>\n",
              "        <path d=\"M19 3H5c-1.1 0-2 .9-2 2v14c0 1.1.9 2 2 2h14c1.1 0 2-.9 2-2V5c0-1.1-.9-2-2-2zM9 17H7v-7h2v7zm4 0h-2V7h2v10zm4 0h-2v-4h2v4z\"/>\n",
              "    </g>\n",
              "</svg>\n",
              "  </button>\n",
              "\n",
              "<style>\n",
              "  .colab-df-quickchart {\n",
              "      --bg-color: #E8F0FE;\n",
              "      --fill-color: #1967D2;\n",
              "      --hover-bg-color: #E2EBFA;\n",
              "      --hover-fill-color: #174EA6;\n",
              "      --disabled-fill-color: #AAA;\n",
              "      --disabled-bg-color: #DDD;\n",
              "  }\n",
              "\n",
              "  [theme=dark] .colab-df-quickchart {\n",
              "      --bg-color: #3B4455;\n",
              "      --fill-color: #D2E3FC;\n",
              "      --hover-bg-color: #434B5C;\n",
              "      --hover-fill-color: #FFFFFF;\n",
              "      --disabled-bg-color: #3B4455;\n",
              "      --disabled-fill-color: #666;\n",
              "  }\n",
              "\n",
              "  .colab-df-quickchart {\n",
              "    background-color: var(--bg-color);\n",
              "    border: none;\n",
              "    border-radius: 50%;\n",
              "    cursor: pointer;\n",
              "    display: none;\n",
              "    fill: var(--fill-color);\n",
              "    height: 32px;\n",
              "    padding: 0;\n",
              "    width: 32px;\n",
              "  }\n",
              "\n",
              "  .colab-df-quickchart:hover {\n",
              "    background-color: var(--hover-bg-color);\n",
              "    box-shadow: 0 1px 2px rgba(60, 64, 67, 0.3), 0 1px 3px 1px rgba(60, 64, 67, 0.15);\n",
              "    fill: var(--button-hover-fill-color);\n",
              "  }\n",
              "\n",
              "  .colab-df-quickchart-complete:disabled,\n",
              "  .colab-df-quickchart-complete:disabled:hover {\n",
              "    background-color: var(--disabled-bg-color);\n",
              "    fill: var(--disabled-fill-color);\n",
              "    box-shadow: none;\n",
              "  }\n",
              "\n",
              "  .colab-df-spinner {\n",
              "    border: 2px solid var(--fill-color);\n",
              "    border-color: transparent;\n",
              "    border-bottom-color: var(--fill-color);\n",
              "    animation:\n",
              "      spin 1s steps(1) infinite;\n",
              "  }\n",
              "\n",
              "  @keyframes spin {\n",
              "    0% {\n",
              "      border-color: transparent;\n",
              "      border-bottom-color: var(--fill-color);\n",
              "      border-left-color: var(--fill-color);\n",
              "    }\n",
              "    20% {\n",
              "      border-color: transparent;\n",
              "      border-left-color: var(--fill-color);\n",
              "      border-top-color: var(--fill-color);\n",
              "    }\n",
              "    30% {\n",
              "      border-color: transparent;\n",
              "      border-left-color: var(--fill-color);\n",
              "      border-top-color: var(--fill-color);\n",
              "      border-right-color: var(--fill-color);\n",
              "    }\n",
              "    40% {\n",
              "      border-color: transparent;\n",
              "      border-right-color: var(--fill-color);\n",
              "      border-top-color: var(--fill-color);\n",
              "    }\n",
              "    60% {\n",
              "      border-color: transparent;\n",
              "      border-right-color: var(--fill-color);\n",
              "    }\n",
              "    80% {\n",
              "      border-color: transparent;\n",
              "      border-right-color: var(--fill-color);\n",
              "      border-bottom-color: var(--fill-color);\n",
              "    }\n",
              "    90% {\n",
              "      border-color: transparent;\n",
              "      border-bottom-color: var(--fill-color);\n",
              "    }\n",
              "  }\n",
              "</style>\n",
              "\n",
              "  <script>\n",
              "    async function quickchart(key) {\n",
              "      const quickchartButtonEl =\n",
              "        document.querySelector('#' + key + ' button');\n",
              "      quickchartButtonEl.disabled = true;  // To prevent multiple clicks.\n",
              "      quickchartButtonEl.classList.add('colab-df-spinner');\n",
              "      try {\n",
              "        const charts = await google.colab.kernel.invokeFunction(\n",
              "            'suggestCharts', [key], {});\n",
              "      } catch (error) {\n",
              "        console.error('Error during call to suggestCharts:', error);\n",
              "      }\n",
              "      quickchartButtonEl.classList.remove('colab-df-spinner');\n",
              "      quickchartButtonEl.classList.add('colab-df-quickchart-complete');\n",
              "    }\n",
              "    (() => {\n",
              "      let quickchartButtonEl =\n",
              "        document.querySelector('#df-5c6ca15c-f106-4995-a2b5-be21df70ec96 button');\n",
              "      quickchartButtonEl.style.display =\n",
              "        google.colab.kernel.accessAllowed ? 'block' : 'none';\n",
              "    })();\n",
              "  </script>\n",
              "</div>\n",
              "    </div>\n",
              "  </div>\n"
            ],
            "application/vnd.google.colaboratory.intrinsic+json": {
              "type": "dataframe",
              "variable_name": "frequency_table",
              "summary": "{\n  \"name\": \"frequency_table\",\n  \"rows\": 5,\n  \"fields\": [\n    {\n      \"column\": \"Interval\",\n      \"properties\": {\n        \"dtype\": \"string\",\n        \"num_unique_values\": 5,\n        \"samples\": [\n          \"1.68 - 1.77\",\n          \"1.94 - 2.03\",\n          \"1.77 - 1.85\"\n        ],\n        \"semantic_type\": \"\",\n        \"description\": \"\"\n      }\n    },\n    {\n      \"column\": \"Absolute Frequency\",\n      \"properties\": {\n        \"dtype\": \"number\",\n        \"std\": 0,\n        \"min\": 1,\n        \"max\": 3,\n        \"num_unique_values\": 3,\n        \"samples\": [\n          2,\n          3,\n          1\n        ],\n        \"semantic_type\": \"\",\n        \"description\": \"\"\n      }\n    },\n    {\n      \"column\": \"Relative Frequency\",\n      \"properties\": {\n        \"dtype\": \"number\",\n        \"std\": 0.07606000241218867,\n        \"min\": 0.09090909090909091,\n        \"max\": 0.2727272727272727,\n        \"num_unique_values\": 3,\n        \"samples\": [\n          0.18181818181818182,\n          0.2727272727272727,\n          0.09090909090909091\n        ],\n        \"semantic_type\": \"\",\n        \"description\": \"\"\n      }\n    }\n  ]\n}"
            }
          },
          "metadata": {},
          "execution_count": 77
        }
      ]
    },
    {
      "cell_type": "markdown",
      "source": [
        "Построим гистограмму распределения относительных частот для\n",
        "рассчитанных интервалов выборки"
      ],
      "metadata": {
        "id": "bEgkhE71l9h4"
      }
    },
    {
      "cell_type": "code",
      "source": [
        "import matplotlib.pyplot as plt\n",
        "\n",
        "# Построение гистограммы относительных частот\n",
        "plt.hist(height, bins=intervals, density=True, color='purple', edgecolor='black')\n",
        "plt.title('Гистограмма распределения относительных частот')\n",
        "plt.xlabel('Рост (м)')\n",
        "plt.ylabel('Относительная частота')\n",
        "plt.grid(True)\n",
        "plt.show()"
      ],
      "metadata": {
        "colab": {
          "base_uri": "https://localhost:8080/",
          "height": 472
        },
        "id": "kPtmdJLqoTpg",
        "outputId": "4943ac12-1694-4f0b-96da-3713ef16c829"
      },
      "execution_count": 78,
      "outputs": [
        {
          "output_type": "display_data",
          "data": {
            "text/plain": [
              "<Figure size 640x480 with 1 Axes>"
            ],
            "image/png": "[encoded data removed]"
          },
          "metadata": {}
        }
      ]
    },
    {
      "cell_type": "markdown",
      "source": [
        "Построим график эмпирической функции распределения"
      ],
      "metadata": {
        "id": "ivAeXyFbmC7E"
      }
    },
    {
      "cell_type": "code",
      "source": [
        "# Вычисление эмпирической функции распределения\n",
        "empirical_distribution = np.cumsum(relative_frequencies)\n",
        "\n",
        "# График эмпирической функции распределения\n",
        "plt.step(interval_edges[:-1], empirical_distribution, where='post', color='purple')\n",
        "plt.title('Эмпирическая функция распределения')\n",
        "plt.xlabel('Рост (м)')\n",
        "plt.ylabel('Накопленная относительная частота')\n",
        "plt.grid(True)\n",
        "plt.show()"
      ],
      "metadata": {
        "colab": {
          "base_uri": "https://localhost:8080/",
          "height": 472
        },
        "id": "JG79gfnnoVu8",
        "outputId": "842196cc-848f-4683-a81f-85f0b051a6cc"
      },
      "execution_count": 79,
      "outputs": [
        {
          "output_type": "display_data",
          "data": {
            "text/plain": [
              "<Figure size 640x480 with 1 Axes>"
            ],
            "image/png": "[encoded data removed]"
          },
          "metadata": {}
        }
      ]
    },
    {
      "cell_type": "markdown",
      "source": [
        "Рассчитаем выборочные описательные статистики"
      ],
      "metadata": {
        "id": "CocRumh7mPCZ"
      }
    },
    {
      "cell_type": "code",
      "source": [
        "# Выборочное среднее\n",
        "mean_value = round(np.mean(height), 2)\n",
        "\n",
        "# Выборочная дисперсия\n",
        "variance = round(np.var(height, ddof=1), 2)\n",
        "\n",
        "# Выборочное стандартное отклонение\n",
        "std_deviation = round(np.std(height, ddof=1), 2)\n",
        "\n",
        "# Выборочная медиана\n",
        "median_value = round(np.median(height), 2)\n",
        "\n",
        "# Коэффициент вариации\n",
        "coefficient_of_variation = round((std_deviation / mean_value) * 100, 2)\n",
        "\n",
        "print(f'Выборочное среднее: {mean_value}, \\\n",
        "        \\nВыборочная дисперсия: {variance}, \\\n",
        "        \\nВыборочное стандартное отклонение: {std_deviation}, \\\n",
        "        \\nВыборочная медиана: {median_value}, \\\n",
        "        \\nКоэффициент вариации: {coefficient_of_variation}%')"
      ],
      "metadata": {
        "colab": {
          "base_uri": "https://localhost:8080/"
        },
        "id": "3pscT9xBoXmf",
        "outputId": "a56e99ce-f7b5-4d0e-a4e5-223386cf4c20"
      },
      "execution_count": 80,
      "outputs": [
        {
          "output_type": "stream",
          "name": "stdout",
          "text": [
            "Выборочное среднее: 1.78,         \n",
            "Выборочная дисперсия: 0.01,         \n",
            "Выборочное стандартное отклонение: 0.12,         \n",
            "Выборочная медиана: 1.77,         \n",
            "Коэффициент вариации: 6.74%\n"
          ]
        }
      ]
    }
  ]
}