{
  "nbformat": 4,
  "nbformat_minor": 0,
  "metadata": {
    "colab": {
      "provenance": [],
      "authorship_tag": "ABX9TyPt9ceT6aeiSmsIV8TcT9zP"
    },
    "kernelspec": {
      "name": "python3",
      "display_name": "Python 3"
    },
    "language_info": {
      "name": "python"
    }
  },
  "cells": [
    {
      "cell_type": "code",
      "execution_count": 1,
      "metadata": {
        "id": "g6gmKKrpqsaP"
      },
      "outputs": [],
      "source": [
        "import numpy as np\n",
        "import scipy.stats as stats"
      ]
    },
    {
      "cell_type": "code",
      "source": [
        "data1 = np.loadtxt(\"/content/1.txt\")\n",
        "data2 = np.loadtxt(\"/content/2.txt\")\n",
        "data3 = np.loadtxt(\"/content/3.txt\")\n",
        "data4 = np.loadtxt(\"/content/4.txt\")"
      ],
      "metadata": {
        "id": "aiwULBq8rtey"
      },
      "execution_count": 2,
      "outputs": []
    },
    {
      "cell_type": "code",
      "source": [
        "def point_estimates(data):\n",
        "    n = len(data)\n",
        "    mean = np.mean(data)\n",
        "    std_dev = np.std(data, ddof=1)\n",
        "    return mean, std_dev\n",
        "\n",
        "# Функция для расчета доверительного интервала для мат. ожидания (нормальное распределение)\n",
        "def ci_normal_dist(mean, std_dev, n, gamma=0.95):\n",
        "    x_gamma = stats.norm.ppf(1 - (1 - gamma) / 2)\n",
        "    margin_of_error = x_gamma * (std_dev / np.sqrt(n))\n",
        "    return (mean - margin_of_error, mean + margin_of_error)\n",
        "\n",
        "# Функция для расчета доверительного интервала для мат. ожидания (t-распределение)\n",
        "def ci_t_dist(mean, std_dev, n, gamma=0.95):\n",
        "    t_gamma = stats.t.ppf(1 - (1 - gamma) / 2, df=n-1)\n",
        "    margin_of_error = t_gamma * (std_dev / np.sqrt(n))\n",
        "    return (mean - margin_of_error, mean + margin_of_error)\n",
        "\n",
        "# Функция для расчета доверительного интервала для стандартного отклонения\n",
        "def ci_std_dev(std_dev, n, gamma=0.95):\n",
        "    alpha = 1 - gamma\n",
        "    chi2_lower = stats.chi2.ppf(alpha / 2, df=n-1)\n",
        "    chi2_upper = stats.chi2.ppf(1 - alpha / 2, df=n-1)\n",
        "    lower_bound = np.sqrt((n - 1) * std_dev**2 / chi2_upper)\n",
        "    upper_bound = np.sqrt((n - 1) * std_dev**2 / chi2_lower)\n",
        "    return (lower_bound, upper_bound)\n"
      ],
      "metadata": {
        "id": "6pQDXXuQrvfd"
      },
      "execution_count": 3,
      "outputs": []
    },
    {
      "cell_type": "code",
      "source": [
        "datasets = [data1, data2, data3, data4]\n",
        "for i, data in enumerate(datasets, 1):\n",
        "    n = len(data)\n",
        "    mean, std_dev = point_estimates(data)\n",
        "\n",
        "    ci_mean_normal = ci_normal_dist(mean, std_dev, n)\n",
        "\n",
        "    ci_mean_t = ci_t_dist(mean, std_dev, n)\n",
        "\n",
        "    ci_std_dev_interval = ci_std_dev(std_dev, n)\n",
        "\n",
        "\n",
        "    print(f\"Набор данных {i}:\")\n",
        "    print(f\"Математическое ожидание: {mean}\")\n",
        "    print(f\"Выборочное стандартное отклонение: {std_dev}\")\n",
        "    print(f\"Доверительный интервал для мат. ожидания (нормальное распределение): {ci_mean_normal}\")\n",
        "    print(f\"Доверительный интервал для мат. ожидания (t-распределение): {ci_mean_t}\")\n",
        "    print(f\"Доверительный интервал для стандартного отклонения: {ci_std_dev_interval}\")\n",
        "    print(\"-\" * 50)"
      ],
      "metadata": {
        "colab": {
          "base_uri": "https://localhost:8080/"
        },
        "id": "57pY3c2Lrxm4",
        "outputId": "f4f237eb-64d3-4445-8e8d-141ba20a6d7b"
      },
      "execution_count": 4,
      "outputs": [
        {
          "output_type": "stream",
          "name": "stdout",
          "text": [
            "Набор данных 1:\n",
            "Математическое ожидание: 67.19094532611652\n",
            "Выборочное стандартное отклонение: 6.050074849772385\n",
            "Доверительный интервал для мат. ожидания (нормальное распределение): (66.00515244518398, 68.37673820704906)\n",
            "Доверительный интервал для мат. ожидания (t-распределение): (65.99047921863504, 68.391411433598)\n",
            "Доверительный интервал для стандартного отклонения: (5.312007133305949, 7.028222245660902)\n",
            "--------------------------------------------------\n",
            "Набор данных 2:\n",
            "Математическое ожидание: 34.332770565521535\n",
            "Выборочное стандартное отклонение: 9.08279967044737\n",
            "Доверительный интервал для мат. ожидания (нормальное распределение): (28.703296450360746, 39.962244680682325)\n",
            "Доверительный интервал для мат. ожидания (t-распределение): (27.83532709555839, 40.83021403548468)\n",
            "Доверительный интервал для стандартного отклонения: (6.247469389181913, 16.581651564154146)\n",
            "--------------------------------------------------\n",
            "Набор данных 3:\n",
            "Математическое ожидание: 52.1287473024098\n",
            "Выборочное стандартное отклонение: 7.676236047815779\n",
            "Доверительный интервал для мат. ожидания (нормальное распределение): (50.624232683355096, 53.6332619214645)\n",
            "Доверительный интервал для мат. ожидания (t-распределение): (50.60561553342399, 53.651879071395605)\n",
            "Доверительный интервал для стандартного отклонения: (6.739787796918208, 8.917293470548168)\n",
            "--------------------------------------------------\n",
            "Набор данных 4:\n",
            "Математическое ожидание: 61.1482730156312\n",
            "Выборочное стандартное отклонение: 2.0709144310778616\n",
            "Доверительный интервал для мат. ожидания (нормальное распределение): (59.864730538921314, 62.43181549234108)\n",
            "Доверительный интервал для мат. ожидания (t-распределение): (59.66683007564873, 62.62971595561366)\n",
            "Доверительный интервал для стандартного отклонения: (1.424447855859928, 3.780682472502474)\n",
            "--------------------------------------------------\n"
          ]
        }
      ]
    }
  ]
}