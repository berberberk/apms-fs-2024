{
  "nbformat": 4,
  "nbformat_minor": 0,
  "metadata": {
    "colab": {
      "provenance": [],
      "authorship_tag": "ABX9TyNdgottvQ3LJlcmnXjNgoVm"
    },
    "kernelspec": {
      "name": "python3",
      "display_name": "Python 3"
    },
    "language_info": {
      "name": "python"
    }
  },
  "cells": [
    {
      "cell_type": "code",
      "execution_count": null,
      "metadata": {
        "id": "g6gmKKrpqsaP"
      },
      "outputs": [],
      "source": [
        "import numpy as np\n",
        "import scipy.stats as stats"
      ]
    },
    {
      "cell_type": "code",
      "source": [
        "data1 = np.loadtxt(\"/content/1.txt\")\n",
        "data2 = np.loadtxt(\"/content/2.txt\")\n",
        "data3 = np.loadtxt(\"/content/3.txt\")\n",
        "data4 = np.loadtxt(\"/content/4.txt\")"
      ],
      "metadata": {
        "id": "aiwULBq8rtey"
      },
      "execution_count": null,
      "outputs": []
    },
    {
      "cell_type": "code",
      "source": [
        "def point_estimates(data):\n",
        "    n = len(data)\n",
        "    mean = np.mean(data)\n",
        "    std_dev = np.std(data, ddof=1)\n",
        "    return round(mean, 2), round(std_dev, 2)\n",
        "\n",
        "# Функция для расчета доверительного интервала для мат. ожидания (нормальное распределение)\n",
        "def ci_normal_dist(mean, std_dev, n, gamma=0.95):\n",
        "    x_gamma = stats.norm.ppf(1 - (1 - gamma) / 2)\n",
        "    margin_of_error = x_gamma * (std_dev / np.sqrt(n))\n",
        "    return (round(mean - margin_of_error, 2), round(mean + margin_of_error, 2))\n",
        "\n",
        "# Функция для расчета доверительного интервала для мат. ожидания (t-распределение)\n",
        "def ci_t_dist(mean, std_dev, n, gamma=0.95):\n",
        "    t_gamma = stats.t.ppf(1 - (1 - gamma) / 2, df=n-1)\n",
        "    margin_of_error = t_gamma * (std_dev / np.sqrt(n))\n",
        "    return (round(mean - margin_of_error, 2), round(mean + margin_of_error, 2))\n",
        "\n",
        "# Функция для расчета доверительного интервала для стандартного отклонения\n",
        "def ci_std_dev(std_dev, n, gamma=0.95):\n",
        "    alpha = 1 - gamma\n",
        "    chi2_lower = stats.chi2.ppf(alpha / 2, df=n-1)\n",
        "    chi2_upper = stats.chi2.ppf(1 - alpha / 2, df=n-1)\n",
        "    lower_bound = np.sqrt((n - 1) * std_dev**2 / chi2_upper)\n",
        "    upper_bound = np.sqrt((n - 1) * std_dev**2 / chi2_lower)\n",
        "    return (round(lower_bound, 2), round(upper_bound, 2))\n"
      ],
      "metadata": {
        "id": "6pQDXXuQrvfd"
      },
      "execution_count": null,
      "outputs": []
    },
    {
      "cell_type": "code",
      "source": [
        "datasets = [data1, data2, data3, data4]\n",
        "for i, data in enumerate(datasets, 1):\n",
        "    n = len(data)\n",
        "    mean, std_dev = point_estimates(data)\n",
        "\n",
        "    ci_mean_normal = ci_normal_dist(mean, std_dev, n)\n",
        "\n",
        "    ci_mean_t = ci_t_dist(mean, std_dev, n)\n",
        "\n",
        "    ci_std_dev_interval = ci_std_dev(std_dev, n)\n",
        "\n",
        "\n",
        "    print(f\"Набор данных {i}:\")\n",
        "    print(f\"Математическое ожидание: {mean}\")\n",
        "    print(f\"Выборочное стандартное отклонение: {std_dev}\")\n",
        "    print(f\"Доверительный интервал для мат. ожидания (нормальное распределение): {ci_mean_normal}\")\n",
        "    print(f\"Доверительный интервал для мат. ожидания (t-распределение): {ci_mean_t}\")\n",
        "    print(f\"Доверительный интервал для стандартного отклонения: {ci_std_dev_interval}\")\n",
        "    print(\"-\" * 70)"
      ],
      "metadata": {
        "colab": {
          "base_uri": "https://localhost:8080/"
        },
        "id": "57pY3c2Lrxm4",
        "outputId": "276c7442-40e5-4a0a-a7e0-c124fb4f4bd6"
      },
      "execution_count": null,
      "outputs": [
        {
          "output_type": "stream",
          "name": "stdout",
          "text": [
            "Набор данных 1:\n",
            "Математическое ожидание: 67.19\n",
            "Выборочное стандартное отклонение: 6.05\n",
            "Доверительный интервал для мат. ожидания (нормальное распределение): (66.0, 68.38)\n",
            "Доверительный интервал для мат. ожидания (t-распределение): (65.99, 68.39)\n",
            "Доверительный интервал для стандартного отклонения: (5.31, 7.03)\n",
            "--------------------------------------------------\n",
            "Набор данных 2:\n",
            "Математическое ожидание: 34.33\n",
            "Выборочное стандартное отклонение: 9.08\n",
            "Доверительный интервал для мат. ожидания (нормальное распределение): (28.7, 39.96)\n",
            "Доверительный интервал для мат. ожидания (t-распределение): (27.83, 40.83)\n",
            "Доверительный интервал для стандартного отклонения: (6.25, 16.58)\n",
            "--------------------------------------------------\n",
            "Набор данных 3:\n",
            "Математическое ожидание: 52.13\n",
            "Выборочное стандартное отклонение: 7.68\n",
            "Доверительный интервал для мат. ожидания (нормальное распределение): (50.62, 53.64)\n",
            "Доверительный интервал для мат. ожидания (t-распределение): (50.61, 53.65)\n",
            "Доверительный интервал для стандартного отклонения: (6.74, 8.92)\n",
            "--------------------------------------------------\n",
            "Набор данных 4:\n",
            "Математическое ожидание: 61.15\n",
            "Выборочное стандартное отклонение: 2.07\n",
            "Доверительный интервал для мат. ожидания (нормальное распределение): (59.87, 62.43)\n",
            "Доверительный интервал для мат. ожидания (t-распределение): (59.67, 62.63)\n",
            "Доверительный интервал для стандартного отклонения: (1.42, 3.78)\n",
            "--------------------------------------------------\n"
          ]
        }
      ]
    }
  ]
}